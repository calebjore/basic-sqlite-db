{
 "cells": [
  {
   "cell_type": "code",
   "execution_count": 1,
   "id": "403c2cf1-7898-432e-9195-7043def98a0e",
   "metadata": {},
   "outputs": [
    {
     "name": "stdout",
     "output_type": "stream",
     "text": [
      "Deleted existing library.db\n"
     ]
    }
   ],
   "source": [
    "import sqlite3\n",
    "import pandas as pd\n",
    "import os\n",
    "\n",
    "# Delete the existing database file\n",
    "if os.path.exists('library.db'):\n",
    "    os.remove('library.db')\n",
    "    print(\"Deleted existing library.db\")\n",
    "\n",
    "with sqlite3.connect('library.db') as conn:\n",
    "    cursor = conn.cursor()\n",
    "\n",
    "    # authors\n",
    "    cursor.execute('''\n",
    "    CREATE TABLE IF NOT EXISTS authors (\n",
    "        author_id INTEGER PRIMARY KEY,\n",
    "        name TEXT NOT NULL\n",
    "    )\n",
    "    ''')\n",
    "\n",
    "    cursor.execute('''\n",
    "    INSERT INTO authors (name)\n",
    "    VALUES ('Jane Austen'), ('J.R.R. Tolkien'), ('J.K. Rowling'), ('N.T. Wright')\n",
    "    ''')\n",
    "\n",
    "    # genres\n",
    "    cursor.execute('''\n",
    "    CREATE TABLE IF NOT EXISTS genres (\n",
    "        genre_id INTEGER PRIMARY KEY,\n",
    "        genre_name TEXT NOT NULL\n",
    "    )\n",
    "    ''')\n",
    "\n",
    "    cursor.execute('''\n",
    "    INSERT INTO genres (genre_name)\n",
    "    VALUES ('historical fiction'), ('fantasy'), ('theology')\n",
    "    ''')\n",
    "\n",
    "    # books\n",
    "    cursor.execute('''\n",
    "    CREATE TABLE IF NOT EXISTS books (\n",
    "        book_id INTEGER PRIMARY KEY,\n",
    "        title TEXT NOT NULL,\n",
    "        author_id INTEGER,\n",
    "        genre_id INTEGER,\n",
    "        year_published INTEGER,\n",
    "        FOREIGN KEY (author_id) REFERENCES authors(author_id),\n",
    "        FOREIGN KEY (genre_id) REFERENCES genres(genre_id)\n",
    "    )\n",
    "    ''')\n",
    "\n",
    "    cursor.execute(\"INSERT INTO books (title, author_id, genre_id, year_published) VALUES (?, ?, ?, ?)\", \n",
    "                  (\"Pride and Prejudice\", 1, 1, 1813))\n",
    "\n",
    "    cursor.execute(\"INSERT INTO books (title, author_id, genre_id, year_published) VALUES (?, ?, ?, ?)\", \n",
    "                  (\"The Fellowship of the Ring\", 2, 2, 1954))\n",
    "\n",
    "    cursor.execute(\"INSERT INTO books (title, author_id, genre_id, year_published) VALUES (?, ?, ?, ?)\", \n",
    "                  (\"The Two Towers\", 2, 2, 1954))\n",
    "\n",
    "    cursor.execute(\"INSERT INTO books (title, author_id, genre_id, year_published) VALUES (?, ?, ?, ?)\", \n",
    "                  (\"The Return of the King\", 2, 2, 1955))\n",
    "\n",
    "    cursor.execute(\"INSERT INTO books (title, author_id, genre_id, year_published) VALUES (?, ?, ?, ?)\", \n",
    "                  (\"Harry Potter and the Philosopher's Stone\", 3, 2, 1997))\n",
    "\n",
    "    cursor.execute(\"INSERT INTO books (title, author_id, genre_id, year_published) VALUES (?, ?, ?, ?)\", \n",
    "                  (\"Surprised by Scripture\", 4, 3, 2015))\n",
    "\n",
    "    cursor.execute(\"INSERT INTO books (title, author_id, genre_id, year_published) VALUES (?, ?, ?, ?)\", \n",
    "                  (\"How God Became King\", 4, 3, 2012))\n",
    "    \n",
    "    conn.commit()"
   ]
  }
 ],
 "metadata": {
  "kernelspec": {
   "display_name": "Python (jupyter-env)",
   "language": "python",
   "name": "jupyter-env"
  },
  "language_info": {
   "codemirror_mode": {
    "name": "ipython",
    "version": 3
   },
   "file_extension": ".py",
   "mimetype": "text/x-python",
   "name": "python",
   "nbconvert_exporter": "python",
   "pygments_lexer": "ipython3",
   "version": "3.11.13"
  }
 },
 "nbformat": 4,
 "nbformat_minor": 5
}
