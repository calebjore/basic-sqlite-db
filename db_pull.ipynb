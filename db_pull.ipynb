{
 "cells": [
  {
   "cell_type": "code",
   "execution_count": 2,
   "id": "b969263e-9f5e-4c97-a81f-f69def56d39f",
   "metadata": {},
   "outputs": [
    {
     "name": "stdout",
     "output_type": "stream",
     "text": [
      "   author_id            name\n",
      "0          1     Jane Austen\n",
      "1          2  J.R.R. Tolkien\n",
      "2          3    J.K. Rowling\n",
      "3          4     N.T. Wright\n",
      "   genre_id          genre_name\n",
      "0         1  historical fiction\n",
      "1         2             fantasy\n",
      "2         3            theology\n",
      "   book_id                                     title  author_id  genre_id  \\\n",
      "0        1                       Pride and Prejudice          1         1   \n",
      "1        2                The Fellowship of the Ring          2         2   \n",
      "2        3                            The Two Towers          2         2   \n",
      "3        4                    The Return of the King          2         2   \n",
      "4        5  Harry Potter and the Philosopher's Stone          3         2   \n",
      "5        6                    Surprised by Scripture          4         3   \n",
      "6        7                       How God Became King          4         3   \n",
      "\n",
      "   year_published  \n",
      "0            1813  \n",
      "1            1954  \n",
      "2            1954  \n",
      "3            1955  \n",
      "4            1997  \n",
      "5            2015  \n",
      "6            2012  \n",
      "Tables: [('authors',), ('genres',), ('books',)]\n",
      "   book_id                                     Title          Author  \\\n",
      "0        1                       Pride and Prejudice     Jane Austen   \n",
      "1        2                The Fellowship of the Ring  J.R.R. Tolkien   \n",
      "2        3                            The Two Towers  J.R.R. Tolkien   \n",
      "3        4                    The Return of the King  J.R.R. Tolkien   \n",
      "4        5  Harry Potter and the Philosopher's Stone    J.K. Rowling   \n",
      "5        6                    Surprised by Scripture     N.T. Wright   \n",
      "6        7                       How God Became King     N.T. Wright   \n",
      "\n",
      "                Genre  \n",
      "0  historical fiction  \n",
      "1             fantasy  \n",
      "2             fantasy  \n",
      "3             fantasy  \n",
      "4             fantasy  \n",
      "5            theology  \n",
      "6            theology  \n"
     ]
    }
   ],
   "source": [
    "import sqlite3\n",
    "import pandas as pd\n",
    "import os\n",
    "\n",
    "conn = sqlite3.connect('library.db')\n",
    "cursor = conn.cursor()\n",
    "\n",
    "df_authors = pd.read_sql_query(\"SELECT * FROM authors\", conn)\n",
    "df_genres = pd.read_sql_query(\"SELECT * FROM genres\", conn)\n",
    "df_books = pd.read_sql_query(\"SELECT * FROM books\", conn)\n",
    "print(df_authors.head())\n",
    "print(df_genres.head())\n",
    "print(df_books.head(10))\n",
    "\n",
    "cursor.execute(\"SELECT name FROM sqlite_master WHERE type ='table';\")\n",
    "tables = cursor.fetchall()\n",
    "print(\"Tables:\", tables)\n",
    "\n",
    "df_all = pd.read_sql_query('''SELECT b.book_id, b.title AS Title, a.name AS Author, g.genre_name AS Genre FROM books b LEFT JOIN authors a ON a.author_id = b.author_id LEFT JOIN genres g ON g.genre_id = b.genre_id''', conn)\n",
    "print(df_all.head(10))\n",
    "\n",
    "conn.close()"
   ]
  },
  {
   "cell_type": "code",
   "execution_count": null,
   "id": "e36b3ddf-caae-4c3d-a591-fe5f439aa55b",
   "metadata": {},
   "outputs": [],
   "source": []
  }
 ],
 "metadata": {
  "kernelspec": {
   "display_name": "Python (jupyter-env)",
   "language": "python",
   "name": "jupyter-env"
  },
  "language_info": {
   "codemirror_mode": {
    "name": "ipython",
    "version": 3
   },
   "file_extension": ".py",
   "mimetype": "text/x-python",
   "name": "python",
   "nbconvert_exporter": "python",
   "pygments_lexer": "ipython3",
   "version": "3.11.13"
  }
 },
 "nbformat": 4,
 "nbformat_minor": 5
}
