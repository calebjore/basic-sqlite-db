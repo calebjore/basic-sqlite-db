{
 "cells": [
  {
   "cell_type": "code",
   "execution_count": 4,
   "id": "b969263e-9f5e-4c97-a81f-f69def56d39f",
   "metadata": {},
   "outputs": [
    {
     "name": "stdout",
     "output_type": "stream",
     "text": [
      "Using database at: /Users/calebjore/Desktop/Code/database_project/library.db\n",
      "[]\n"
     ]
    }
   ],
   "source": [
    "import sqlite3\n",
    "\n",
    "import os\n",
    "db_path = os.path.abspath('library.db')\n",
    "print(f\"Using database at: {db_path}\")\n",
    "conn2 = sqlite3.connect(db_path)\n",
    "cursor = conn2.cursor()\n",
    "\n",
    "print(cursor.fetchall())"
   ]
  }
 ],
 "metadata": {
  "kernelspec": {
   "display_name": "Python (jupyter-env)",
   "language": "python",
   "name": "jupyter-env"
  },
  "language_info": {
   "codemirror_mode": {
    "name": "ipython",
    "version": 3
   },
   "file_extension": ".py",
   "mimetype": "text/x-python",
   "name": "python",
   "nbconvert_exporter": "python",
   "pygments_lexer": "ipython3",
   "version": "3.11.13"
  }
 },
 "nbformat": 4,
 "nbformat_minor": 5
}
